{
 "cells": [
  {
   "cell_type": "markdown",
   "metadata": {},
   "source": [
    "<a href='https://www.hexnbit.com/'> <img src='hexnbit.png'/> </a>"
   ]
  },
  {
   "cell_type": "markdown",
   "metadata": {
    "colab_type": "text",
    "collapsed": true,
    "id": "2FX1KamFmBrl"
   },
   "source": [
    "# Introduction to Pandas\n",
    "\n",
    "Pandas is and Open Source Python Library developed using NumPy.\n",
    "It provides fast, flexible, and expressive data structures designed to make working with “relational” or “labeled” data both easy. It aims to be the fundamental high-level building block for doing practical, real world data analysis in Python. \n",
    "\n",
    "Typical use cases inlude:-\n",
    "  - Finance\n",
    "  - Statistics\n",
    "  - Social science\n",
    "  - Engineering etc\n",
    "\n",
    "Pandas acts as Excel of the Python language which we can use for data analysis.\n",
    "\n",
    "Pandas is licensed under the BSD license.\n",
    "You may refer the Pandas documentation if required: https://pandas.pydata.org/docs/"
   ]
  },
  {
   "cell_type": "markdown",
   "metadata": {},
   "source": [
    "## Installation\n",
    "\n",
    "*We hope that you have installed Python using the Anaconda distribution. Although, Pandas should be pre-bundled with Anaconda. In case you face any issues while importing the module in the futher steps, you may install Pandas by opening your terminal(for MAC Users) or ANACONDA Command Prompt(for Windows Users) and type the following command*\n",
    "    \n",
    "    conda install pandas\n",
    "    \n",
    "For installation steps related to other platforms/environments, please refer to [Pandas' official installation steps](https://pandas.pydata.org/docs/getting_started/index.html)"
   ]
  },
  {
   "cell_type": "markdown",
   "metadata": {},
   "source": [
    "# Pandas Data Structures\n",
    "There are 2 types of Pandas Data Structures:\n",
    "1. Series\n",
    "2. DataFrames"
   ]
  },
  {
   "cell_type": "markdown",
   "metadata": {},
   "source": [
    "## Series\n",
    "Pandas Series is a one-dimensional labelled array capable of holding any data type."
   ]
  },
  {
   "cell_type": "code",
   "execution_count": 1,
   "metadata": {
    "colab": {},
    "colab_type": "code",
    "id": "w987-kPpmi4o"
   },
   "outputs": [],
   "source": [
    "import numpy as np    # importing NumPy as np\n",
    "import pandas as pd   # importing Pandas as pd"
   ]
  },
  {
   "cell_type": "markdown",
   "metadata": {},
   "source": [
    "### Creating Pandas Series using Lists"
   ]
  },
  {
   "cell_type": "code",
   "execution_count": 2,
   "metadata": {
    "colab": {},
    "colab_type": "code",
    "id": "6qZqz5qLmrq2"
   },
   "outputs": [],
   "source": [
    "fruits = ['Apples','Bananas','Kiwis']   # creating a list of fruits\n",
    "quantity = [10,20,30]                    # creating a list of quantity"
   ]
  },
  {
   "cell_type": "code",
   "execution_count": 3,
   "metadata": {
    "colab": {
     "base_uri": "https://localhost:8080/",
     "height": 36
    },
    "colab_type": "code",
    "executionInfo": {
     "elapsed": 1195,
     "status": "ok",
     "timestamp": 1559874906669,
     "user": {
      "displayName": "Mahesh Anand",
      "photoUrl": "https://lh3.googleusercontent.com/-qzo_AFAl02k/AAAAAAAAAAI/AAAAAAAAABY/Ywj2vXZmRw4/s64/photo.jpg",
      "userId": "06788086636039591358"
     },
     "user_tz": -330
    },
    "id": "O37dk310yHE4",
    "outputId": "6256eb36-46ac-40ca-dcb2-9e189c21440f"
   },
   "outputs": [
    {
     "name": "stdout",
     "output_type": "stream",
     "text": [
      "<class 'pandas.core.series.Series'>\n"
     ]
    },
    {
     "data": {
      "text/plain": [
       "Apples     10\n",
       "Bananas    20\n",
       "Kiwis      30\n",
       "dtype: int64"
      ]
     },
     "execution_count": 3,
     "metadata": {},
     "output_type": "execute_result"
    }
   ],
   "source": [
    "fruit_inventory=pd.Series(quantity,index=fruits)   # Creating a Pandas Series from list\n",
    "print(type(fruit_inventory))\n",
    "(fruit_inventory)"
   ]
  },
  {
   "cell_type": "code",
   "execution_count": 4,
   "metadata": {
    "colab": {
     "base_uri": "https://localhost:8080/",
     "height": 36
    },
    "colab_type": "code",
    "executionInfo": {
     "elapsed": 874,
     "status": "ok",
     "timestamp": 1559874927895,
     "user": {
      "displayName": "Mahesh Anand",
      "photoUrl": "https://lh3.googleusercontent.com/-qzo_AFAl02k/AAAAAAAAAAI/AAAAAAAAABY/Ywj2vXZmRw4/s64/photo.jpg",
      "userId": "06788086636039591358"
     },
     "user_tz": -330
    },
    "id": "1rigR85Ayd-T",
    "outputId": "3d06f3cb-3b09-44c7-e734-605804b541bb"
   },
   "outputs": [
    {
     "name": "stdout",
     "output_type": "stream",
     "text": [
      "10\n"
     ]
    }
   ],
   "source": [
    "print(fruit_inventory['Apples'])    # Printing data with index 'Apples'"
   ]
  },
  {
   "cell_type": "code",
   "execution_count": 5,
   "metadata": {
    "colab": {
     "base_uri": "https://localhost:8080/",
     "height": 36
    },
    "colab_type": "code",
    "executionInfo": {
     "elapsed": 2638,
     "status": "ok",
     "timestamp": 1559875008925,
     "user": {
      "displayName": "Mahesh Anand",
      "photoUrl": "https://lh3.googleusercontent.com/-qzo_AFAl02k/AAAAAAAAAAI/AAAAAAAAABY/Ywj2vXZmRw4/s64/photo.jpg",
      "userId": "06788086636039591358"
     },
     "user_tz": -330
    },
    "id": "6wf1iWtSyoqw",
    "outputId": "f894a607-30a3-45e5-a58a-ab12100924b6"
   },
   "outputs": [
    {
     "name": "stdout",
     "output_type": "stream",
     "text": [
      "Index(['Apples', 'Bananas', 'Kiwis'], dtype='object')\n"
     ]
    }
   ],
   "source": [
    "print(fruit_inventory.index)   # Printing all index of fruit_inventory"
   ]
  },
  {
   "cell_type": "code",
   "execution_count": 6,
   "metadata": {
    "colab": {
     "base_uri": "https://localhost:8080/",
     "height": 36
    },
    "colab_type": "code",
    "executionInfo": {
     "elapsed": 2262,
     "status": "ok",
     "timestamp": 1559875021202,
     "user": {
      "displayName": "Mahesh Anand",
      "photoUrl": "https://lh3.googleusercontent.com/-qzo_AFAl02k/AAAAAAAAAAI/AAAAAAAAABY/Ywj2vXZmRw4/s64/photo.jpg",
      "userId": "06788086636039591358"
     },
     "user_tz": -330
    },
    "id": "qDqL_jPHy9CA",
    "outputId": "5f174704-3ad5-4ddc-862e-a2a77e1ab2c8"
   },
   "outputs": [
    {
     "name": "stdout",
     "output_type": "stream",
     "text": [
      "[10 20 30]\n"
     ]
    }
   ],
   "source": [
    "print(fruit_inventory.values)  # Printing all values from fruit_inventory"
   ]
  },
  {
   "cell_type": "code",
   "execution_count": 7,
   "metadata": {
    "colab": {
     "base_uri": "https://localhost:8080/",
     "height": 36
    },
    "colab_type": "code",
    "executionInfo": {
     "elapsed": 986,
     "status": "ok",
     "timestamp": 1559875057669,
     "user": {
      "displayName": "Mahesh Anand",
      "photoUrl": "https://lh3.googleusercontent.com/-qzo_AFAl02k/AAAAAAAAAAI/AAAAAAAAABY/Ywj2vXZmRw4/s64/photo.jpg",
      "userId": "06788086636039591358"
     },
     "user_tz": -330
    },
    "id": "AI7asWstzFrg",
    "outputId": "eb428f6b-3fac-4a90-9cf8-eb9c32cdb53c"
   },
   "outputs": [
    {
     "name": "stdout",
     "output_type": "stream",
     "text": [
      "20.0\n"
     ]
    }
   ],
   "source": [
    "print(fruit_inventory.mean())  # Printing mean of all values of fruit_inventory"
   ]
  },
  {
   "cell_type": "code",
   "execution_count": 8,
   "metadata": {
    "colab": {
     "base_uri": "https://localhost:8080/",
     "height": 36
    },
    "colab_type": "code",
    "executionInfo": {
     "elapsed": 970,
     "status": "ok",
     "timestamp": 1559875067100,
     "user": {
      "displayName": "Mahesh Anand",
      "photoUrl": "https://lh3.googleusercontent.com/-qzo_AFAl02k/AAAAAAAAAAI/AAAAAAAAABY/Ywj2vXZmRw4/s64/photo.jpg",
      "userId": "06788086636039591358"
     },
     "user_tz": -330
    },
    "id": "hMco6SY7zIEi",
    "outputId": "86a4d862-b956-4761-8cb5-04b0416d6d39"
   },
   "outputs": [
    {
     "name": "stdout",
     "output_type": "stream",
     "text": [
      "10\n"
     ]
    }
   ],
   "source": [
    "print(fruit_inventory.min())   # Printing minimum of all values of fruit_inventory"
   ]
  },
  {
   "cell_type": "code",
   "execution_count": 9,
   "metadata": {
    "colab": {
     "base_uri": "https://localhost:8080/",
     "height": 129
    },
    "colab_type": "code",
    "executionInfo": {
     "elapsed": 944,
     "status": "ok",
     "timestamp": 1559875114154,
     "user": {
      "displayName": "Mahesh Anand",
      "photoUrl": "https://lh3.googleusercontent.com/-qzo_AFAl02k/AAAAAAAAAAI/AAAAAAAAABY/Ywj2vXZmRw4/s64/photo.jpg",
      "userId": "06788086636039591358"
     },
     "user_tz": -330
    },
    "id": "_Z4mB3hpzLU1",
    "outputId": "59ca3404-cfae-4e63-95b5-db0c35e4c57d"
   },
   "outputs": [
    {
     "name": "stdout",
     "output_type": "stream",
     "text": [
      "Apples 10\n",
      "Bananas 20\n",
      "Kiwis 30\n"
     ]
    }
   ],
   "source": [
    "#Series Iterations\n",
    "for ind,val in fruit_inventory.iteritems():\n",
    "    print(ind,val)"
   ]
  },
  {
   "cell_type": "markdown",
   "metadata": {},
   "source": [
    "### Creating Pandas Series from Dictionary"
   ]
  },
  {
   "cell_type": "code",
   "execution_count": 10,
   "metadata": {},
   "outputs": [
    {
     "name": "stdout",
     "output_type": "stream",
     "text": [
      "<class 'dict'>\n",
      "Apples     10\n",
      "Bananas    20\n",
      "Kiwis      30\n",
      "dtype: int64\n"
     ]
    }
   ],
   "source": [
    "fruit_dictionary = {'Apples':10,'Bananas':20,'Kiwis':30}   # Dictionary\n",
    "print(type(fruit_dictionary))\n",
    "print(pd.Series(fruit_dictionary))                         # Creating Pandas Series from Dictionary\n",
    "# Pandas will automatically extract the Keys of Dictionary and use them and Labels"
   ]
  },
  {
   "cell_type": "markdown",
   "metadata": {},
   "source": [
    "### Creating Pandas Series from NumPy array"
   ]
  },
  {
   "cell_type": "code",
   "execution_count": 11,
   "metadata": {},
   "outputs": [
    {
     "name": "stdout",
     "output_type": "stream",
     "text": [
      "<class 'numpy.ndarray'>\n",
      "[44 55 66]\n"
     ]
    }
   ],
   "source": [
    "num_array=np.array([44,55,66])   # creating numpy array\n",
    "print(type(num_array))             # printing numpy data type\n",
    "print(num_array)"
   ]
  },
  {
   "cell_type": "code",
   "execution_count": 12,
   "metadata": {},
   "outputs": [
    {
     "name": "stdout",
     "output_type": "stream",
     "text": [
      "<class 'pandas.core.series.Series'>\n",
      "0    44\n",
      "1    55\n",
      "2    66\n",
      "dtype: int32\n"
     ]
    }
   ],
   "source": [
    "num_series=pd.Series(num_array)        # creating Pandas Series from NumPy array\n",
    "print(type(num_series))\n",
    "print(num_series)"
   ]
  },
  {
   "cell_type": "code",
   "execution_count": 13,
   "metadata": {},
   "outputs": [
    {
     "name": "stdout",
     "output_type": "stream",
     "text": [
      "55\n"
     ]
    }
   ],
   "source": [
    "print(num_series[1])   # printing data using the index"
   ]
  },
  {
   "cell_type": "markdown",
   "metadata": {},
   "source": [
    "Pandas Series can even contain different types of data. For example"
   ]
  },
  {
   "cell_type": "code",
   "execution_count": 14,
   "metadata": {},
   "outputs": [
    {
     "name": "stdout",
     "output_type": "stream",
     "text": [
      "0    Hex\n",
      "1      N\n",
      "2    Bit\n",
      "dtype: object\n"
     ]
    }
   ],
   "source": [
    "new_data=[\"Hex\",\"N\",\"Bit\"]      # List containing String Data\n",
    "print(pd.Series(data=new_data)) # Creating Pandas Series with List of String Data"
   ]
  },
  {
   "cell_type": "code",
   "execution_count": 15,
   "metadata": {},
   "outputs": [
    {
     "name": "stdout",
     "output_type": "stream",
     "text": [
      "0    5.0\n",
      "1    7.0\n",
      "2    9.0\n",
      "4    NaN\n",
      "dtype: float64\n"
     ]
    }
   ],
   "source": [
    "# Arithmetic using two series\n",
    "ser1=pd.Series([1,2,3,5],[0,1,2,4])\n",
    "ser2=pd.Series([4,5,6],[0,1,2])\n",
    "print(ser2+ser1)"
   ]
  },
  {
   "cell_type": "code",
   "execution_count": null,
   "metadata": {},
   "outputs": [],
   "source": []
  }
 ],
 "metadata": {
  "colab": {
   "collapsed_sections": [],
   "name": "PML_session3.ipynb",
   "provenance": [],
   "version": "0.3.2"
  },
  "kernelspec": {
   "display_name": "Python 3",
   "language": "python",
   "name": "python3"
  },
  "language_info": {
   "codemirror_mode": {
    "name": "ipython",
    "version": 3
   },
   "file_extension": ".py",
   "mimetype": "text/x-python",
   "name": "python",
   "nbconvert_exporter": "python",
   "pygments_lexer": "ipython3",
   "version": "3.7.6"
  }
 },
 "nbformat": 4,
 "nbformat_minor": 1
}
