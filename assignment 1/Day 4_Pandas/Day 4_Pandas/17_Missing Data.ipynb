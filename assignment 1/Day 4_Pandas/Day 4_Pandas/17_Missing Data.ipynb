{
 "cells": [
  {
   "cell_type": "markdown",
   "metadata": {},
   "source": [
    "<a href='https://www.hexnbit.com/'> <img src='hexnbit.png'/> </a>"
   ]
  },
  {
   "cell_type": "markdown",
   "metadata": {},
   "source": [
    "# Missing Data\n",
    "Many time, in real life applications, data will be missing, here, we have discussed two techniques using\n",
    "which the missing data can be taken care of\n",
    " - Drop Missing Data\n",
    " - Fill Missing Data"
   ]
  },
  {
   "cell_type": "code",
   "execution_count": 1,
   "metadata": {},
   "outputs": [],
   "source": [
    "import pandas as pd\n",
    "import numpy as np"
   ]
  },
  {
   "cell_type": "markdown",
   "metadata": {},
   "source": [
    "## Creating Sample Data"
   ]
  },
  {
   "cell_type": "code",
   "execution_count": 2,
   "metadata": {},
   "outputs": [
    {
     "name": "stdout",
     "output_type": "stream",
     "text": [
      "[[0.77132064 0.02075195 0.63364823 0.74880388 0.49850701]\n",
      " [0.22479665 0.19806286 0.76053071 0.16911084 0.08833981]\n",
      " [0.68535982 0.95339335 0.00394827 0.51219226 0.81262096]\n",
      " [0.61252607 0.72175532 0.29187607 0.91777412 0.71457578]\n",
      " [0.54254437 0.14217005 0.37334076 0.67413362 0.44183317]]\n"
     ]
    }
   ],
   "source": [
    "np.random.seed(10)   # so that the random values generated, remain every time this code is run, if we change or remove\n",
    "                     # the seed, the generated random values will change\n",
    "data=np.random.rand(25).reshape(5,5)   # creating 5 x 5 numpy array of random numbers\n",
    "print(data)"
   ]
  },
  {
   "cell_type": "code",
   "execution_count": 3,
   "metadata": {},
   "outputs": [],
   "source": [
    "# creating Data Frame from the array created in the above cell\n",
    "frame=pd.DataFrame(data,index=\"R1 R2 R3 R4 R5\".split(),columns=\"C1 C2 C3 C4 C5\".split())"
   ]
  },
  {
   "cell_type": "code",
   "execution_count": 4,
   "metadata": {},
   "outputs": [
    {
     "name": "stdout",
     "output_type": "stream",
     "text": [
      "          C1        C2        C3        C4        C5\n",
      "R1  0.771321  0.020752  0.633648  0.748804  0.498507\n",
      "R2  0.224797  0.198063  0.760531  0.169111  0.088340\n",
      "R3  0.685360  0.953393  0.003948  0.512192  0.812621\n",
      "R4  0.612526  0.721755  0.291876  0.917774  0.714576\n",
      "R5  0.542544  0.142170  0.373341  0.674134  0.441833\n"
     ]
    }
   ],
   "source": [
    "print(frame)"
   ]
  },
  {
   "cell_type": "code",
   "execution_count": 5,
   "metadata": {},
   "outputs": [],
   "source": [
    "frame1=frame[frame>0.2]  # creating a data frame where the values below 0.2 will be dropped"
   ]
  },
  {
   "cell_type": "code",
   "execution_count": 6,
   "metadata": {},
   "outputs": [
    {
     "name": "stdout",
     "output_type": "stream",
     "text": [
      "          C1        C2        C3        C4        C5\n",
      "R1  0.771321       NaN  0.633648  0.748804  0.498507\n",
      "R2  0.224797       NaN  0.760531       NaN       NaN\n",
      "R3  0.685360  0.953393       NaN  0.512192  0.812621\n",
      "R4  0.612526  0.721755  0.291876  0.917774  0.714576\n",
      "R5  0.542544       NaN  0.373341  0.674134  0.441833\n"
     ]
    }
   ],
   "source": [
    "print(frame1)   # printing data which contains missing values (NaN)"
   ]
  },
  {
   "cell_type": "markdown",
   "metadata": {},
   "source": [
    "## Drop Missing Data\n",
    "All drops are temporary, to make permanent change, use inplace parameter as True"
   ]
  },
  {
   "cell_type": "code",
   "execution_count": 7,
   "metadata": {},
   "outputs": [
    {
     "data": {
      "text/html": [
       "<div>\n",
       "<style scoped>\n",
       "    .dataframe tbody tr th:only-of-type {\n",
       "        vertical-align: middle;\n",
       "    }\n",
       "\n",
       "    .dataframe tbody tr th {\n",
       "        vertical-align: top;\n",
       "    }\n",
       "\n",
       "    .dataframe thead th {\n",
       "        text-align: right;\n",
       "    }\n",
       "</style>\n",
       "<table border=\"1\" class=\"dataframe\">\n",
       "  <thead>\n",
       "    <tr style=\"text-align: right;\">\n",
       "      <th></th>\n",
       "      <th>C1</th>\n",
       "      <th>C2</th>\n",
       "      <th>C3</th>\n",
       "      <th>C4</th>\n",
       "      <th>C5</th>\n",
       "    </tr>\n",
       "  </thead>\n",
       "  <tbody>\n",
       "    <tr>\n",
       "      <th>R4</th>\n",
       "      <td>0.612526</td>\n",
       "      <td>0.721755</td>\n",
       "      <td>0.291876</td>\n",
       "      <td>0.917774</td>\n",
       "      <td>0.714576</td>\n",
       "    </tr>\n",
       "  </tbody>\n",
       "</table>\n",
       "</div>"
      ],
      "text/plain": [
       "          C1        C2        C3        C4        C5\n",
       "R4  0.612526  0.721755  0.291876  0.917774  0.714576"
      ]
     },
     "execution_count": 7,
     "metadata": {},
     "output_type": "execute_result"
    }
   ],
   "source": [
    "frame1.dropna() # Dropping all rows containing NaNs"
   ]
  },
  {
   "cell_type": "code",
   "execution_count": 8,
   "metadata": {},
   "outputs": [
    {
     "data": {
      "text/html": [
       "<div>\n",
       "<style scoped>\n",
       "    .dataframe tbody tr th:only-of-type {\n",
       "        vertical-align: middle;\n",
       "    }\n",
       "\n",
       "    .dataframe tbody tr th {\n",
       "        vertical-align: top;\n",
       "    }\n",
       "\n",
       "    .dataframe thead th {\n",
       "        text-align: right;\n",
       "    }\n",
       "</style>\n",
       "<table border=\"1\" class=\"dataframe\">\n",
       "  <thead>\n",
       "    <tr style=\"text-align: right;\">\n",
       "      <th></th>\n",
       "      <th>C1</th>\n",
       "    </tr>\n",
       "  </thead>\n",
       "  <tbody>\n",
       "    <tr>\n",
       "      <th>R1</th>\n",
       "      <td>0.771321</td>\n",
       "    </tr>\n",
       "    <tr>\n",
       "      <th>R2</th>\n",
       "      <td>0.224797</td>\n",
       "    </tr>\n",
       "    <tr>\n",
       "      <th>R3</th>\n",
       "      <td>0.685360</td>\n",
       "    </tr>\n",
       "    <tr>\n",
       "      <th>R4</th>\n",
       "      <td>0.612526</td>\n",
       "    </tr>\n",
       "    <tr>\n",
       "      <th>R5</th>\n",
       "      <td>0.542544</td>\n",
       "    </tr>\n",
       "  </tbody>\n",
       "</table>\n",
       "</div>"
      ],
      "text/plain": [
       "          C1\n",
       "R1  0.771321\n",
       "R2  0.224797\n",
       "R3  0.685360\n",
       "R4  0.612526\n",
       "R5  0.542544"
      ]
     },
     "execution_count": 8,
     "metadata": {},
     "output_type": "execute_result"
    }
   ],
   "source": [
    "frame1.dropna(axis=1)  # dropping all columns containing NaNs"
   ]
  },
  {
   "cell_type": "code",
   "execution_count": 9,
   "metadata": {},
   "outputs": [
    {
     "data": {
      "text/html": [
       "<div>\n",
       "<style scoped>\n",
       "    .dataframe tbody tr th:only-of-type {\n",
       "        vertical-align: middle;\n",
       "    }\n",
       "\n",
       "    .dataframe tbody tr th {\n",
       "        vertical-align: top;\n",
       "    }\n",
       "\n",
       "    .dataframe thead th {\n",
       "        text-align: right;\n",
       "    }\n",
       "</style>\n",
       "<table border=\"1\" class=\"dataframe\">\n",
       "  <thead>\n",
       "    <tr style=\"text-align: right;\">\n",
       "      <th></th>\n",
       "      <th>C1</th>\n",
       "      <th>C2</th>\n",
       "      <th>C3</th>\n",
       "      <th>C4</th>\n",
       "      <th>C5</th>\n",
       "    </tr>\n",
       "  </thead>\n",
       "  <tbody>\n",
       "    <tr>\n",
       "      <th>R1</th>\n",
       "      <td>0.771321</td>\n",
       "      <td>NaN</td>\n",
       "      <td>0.633648</td>\n",
       "      <td>0.748804</td>\n",
       "      <td>0.498507</td>\n",
       "    </tr>\n",
       "    <tr>\n",
       "      <th>R3</th>\n",
       "      <td>0.685360</td>\n",
       "      <td>0.953393</td>\n",
       "      <td>NaN</td>\n",
       "      <td>0.512192</td>\n",
       "      <td>0.812621</td>\n",
       "    </tr>\n",
       "    <tr>\n",
       "      <th>R4</th>\n",
       "      <td>0.612526</td>\n",
       "      <td>0.721755</td>\n",
       "      <td>0.291876</td>\n",
       "      <td>0.917774</td>\n",
       "      <td>0.714576</td>\n",
       "    </tr>\n",
       "    <tr>\n",
       "      <th>R5</th>\n",
       "      <td>0.542544</td>\n",
       "      <td>NaN</td>\n",
       "      <td>0.373341</td>\n",
       "      <td>0.674134</td>\n",
       "      <td>0.441833</td>\n",
       "    </tr>\n",
       "  </tbody>\n",
       "</table>\n",
       "</div>"
      ],
      "text/plain": [
       "          C1        C2        C3        C4        C5\n",
       "R1  0.771321       NaN  0.633648  0.748804  0.498507\n",
       "R3  0.685360  0.953393       NaN  0.512192  0.812621\n",
       "R4  0.612526  0.721755  0.291876  0.917774  0.714576\n",
       "R5  0.542544       NaN  0.373341  0.674134  0.441833"
      ]
     },
     "execution_count": 9,
     "metadata": {},
     "output_type": "execute_result"
    }
   ],
   "source": [
    "frame1.dropna(thresh=3)   # dropping rows which have less than 3 valid data points"
   ]
  },
  {
   "cell_type": "code",
   "execution_count": 10,
   "metadata": {},
   "outputs": [
    {
     "data": {
      "text/html": [
       "<div>\n",
       "<style scoped>\n",
       "    .dataframe tbody tr th:only-of-type {\n",
       "        vertical-align: middle;\n",
       "    }\n",
       "\n",
       "    .dataframe tbody tr th {\n",
       "        vertical-align: top;\n",
       "    }\n",
       "\n",
       "    .dataframe thead th {\n",
       "        text-align: right;\n",
       "    }\n",
       "</style>\n",
       "<table border=\"1\" class=\"dataframe\">\n",
       "  <thead>\n",
       "    <tr style=\"text-align: right;\">\n",
       "      <th></th>\n",
       "      <th>C1</th>\n",
       "      <th>C3</th>\n",
       "      <th>C4</th>\n",
       "      <th>C5</th>\n",
       "    </tr>\n",
       "  </thead>\n",
       "  <tbody>\n",
       "    <tr>\n",
       "      <th>R1</th>\n",
       "      <td>0.771321</td>\n",
       "      <td>0.633648</td>\n",
       "      <td>0.748804</td>\n",
       "      <td>0.498507</td>\n",
       "    </tr>\n",
       "    <tr>\n",
       "      <th>R2</th>\n",
       "      <td>0.224797</td>\n",
       "      <td>0.760531</td>\n",
       "      <td>NaN</td>\n",
       "      <td>NaN</td>\n",
       "    </tr>\n",
       "    <tr>\n",
       "      <th>R3</th>\n",
       "      <td>0.685360</td>\n",
       "      <td>NaN</td>\n",
       "      <td>0.512192</td>\n",
       "      <td>0.812621</td>\n",
       "    </tr>\n",
       "    <tr>\n",
       "      <th>R4</th>\n",
       "      <td>0.612526</td>\n",
       "      <td>0.291876</td>\n",
       "      <td>0.917774</td>\n",
       "      <td>0.714576</td>\n",
       "    </tr>\n",
       "    <tr>\n",
       "      <th>R5</th>\n",
       "      <td>0.542544</td>\n",
       "      <td>0.373341</td>\n",
       "      <td>0.674134</td>\n",
       "      <td>0.441833</td>\n",
       "    </tr>\n",
       "  </tbody>\n",
       "</table>\n",
       "</div>"
      ],
      "text/plain": [
       "          C1        C3        C4        C5\n",
       "R1  0.771321  0.633648  0.748804  0.498507\n",
       "R2  0.224797  0.760531       NaN       NaN\n",
       "R3  0.685360       NaN  0.512192  0.812621\n",
       "R4  0.612526  0.291876  0.917774  0.714576\n",
       "R5  0.542544  0.373341  0.674134  0.441833"
      ]
     },
     "execution_count": 10,
     "metadata": {},
     "output_type": "execute_result"
    }
   ],
   "source": [
    "frame1.dropna(axis=1,thresh=3)   # dropping columns which have less than 3 valid data points"
   ]
  },
  {
   "cell_type": "markdown",
   "metadata": {},
   "source": [
    "## Fill Missing Data\n",
    "All fills are temporary, use, inplace parameter as True for permanent changes"
   ]
  },
  {
   "cell_type": "code",
   "execution_count": 11,
   "metadata": {},
   "outputs": [
    {
     "name": "stdout",
     "output_type": "stream",
     "text": [
      "          C1        C2        C3        C4        C5\n",
      "R1  0.771321       NaN  0.633648  0.748804  0.498507\n",
      "R2  0.224797       NaN  0.760531       NaN       NaN\n",
      "R3  0.685360  0.953393       NaN  0.512192  0.812621\n",
      "R4  0.612526  0.721755  0.291876  0.917774  0.714576\n",
      "R5  0.542544       NaN  0.373341  0.674134  0.441833\n"
     ]
    }
   ],
   "source": [
    "print(frame1)"
   ]
  },
  {
   "cell_type": "code",
   "execution_count": 12,
   "metadata": {},
   "outputs": [
    {
     "data": {
      "text/html": [
       "<div>\n",
       "<style scoped>\n",
       "    .dataframe tbody tr th:only-of-type {\n",
       "        vertical-align: middle;\n",
       "    }\n",
       "\n",
       "    .dataframe tbody tr th {\n",
       "        vertical-align: top;\n",
       "    }\n",
       "\n",
       "    .dataframe thead th {\n",
       "        text-align: right;\n",
       "    }\n",
       "</style>\n",
       "<table border=\"1\" class=\"dataframe\">\n",
       "  <thead>\n",
       "    <tr style=\"text-align: right;\">\n",
       "      <th></th>\n",
       "      <th>C1</th>\n",
       "      <th>C2</th>\n",
       "      <th>C3</th>\n",
       "      <th>C4</th>\n",
       "      <th>C5</th>\n",
       "    </tr>\n",
       "  </thead>\n",
       "  <tbody>\n",
       "    <tr>\n",
       "      <th>R1</th>\n",
       "      <td>0.771321</td>\n",
       "      <td>999.000000</td>\n",
       "      <td>0.633648</td>\n",
       "      <td>0.748804</td>\n",
       "      <td>0.498507</td>\n",
       "    </tr>\n",
       "    <tr>\n",
       "      <th>R2</th>\n",
       "      <td>0.224797</td>\n",
       "      <td>999.000000</td>\n",
       "      <td>0.760531</td>\n",
       "      <td>999.000000</td>\n",
       "      <td>999.000000</td>\n",
       "    </tr>\n",
       "    <tr>\n",
       "      <th>R3</th>\n",
       "      <td>0.685360</td>\n",
       "      <td>0.953393</td>\n",
       "      <td>999.000000</td>\n",
       "      <td>0.512192</td>\n",
       "      <td>0.812621</td>\n",
       "    </tr>\n",
       "    <tr>\n",
       "      <th>R4</th>\n",
       "      <td>0.612526</td>\n",
       "      <td>0.721755</td>\n",
       "      <td>0.291876</td>\n",
       "      <td>0.917774</td>\n",
       "      <td>0.714576</td>\n",
       "    </tr>\n",
       "    <tr>\n",
       "      <th>R5</th>\n",
       "      <td>0.542544</td>\n",
       "      <td>999.000000</td>\n",
       "      <td>0.373341</td>\n",
       "      <td>0.674134</td>\n",
       "      <td>0.441833</td>\n",
       "    </tr>\n",
       "  </tbody>\n",
       "</table>\n",
       "</div>"
      ],
      "text/plain": [
       "          C1          C2          C3          C4          C5\n",
       "R1  0.771321  999.000000    0.633648    0.748804    0.498507\n",
       "R2  0.224797  999.000000    0.760531  999.000000  999.000000\n",
       "R3  0.685360    0.953393  999.000000    0.512192    0.812621\n",
       "R4  0.612526    0.721755    0.291876    0.917774    0.714576\n",
       "R5  0.542544  999.000000    0.373341    0.674134    0.441833"
      ]
     },
     "execution_count": 12,
     "metadata": {},
     "output_type": "execute_result"
    }
   ],
   "source": [
    "frame1.fillna(value=999)   # filling all NaNs with value 999."
   ]
  },
  {
   "cell_type": "code",
   "execution_count": 13,
   "metadata": {},
   "outputs": [
    {
     "data": {
      "text/plain": [
       "C1      0.224797\n",
       "C2    999.000000\n",
       "C3      0.760531\n",
       "C4    999.000000\n",
       "C5    999.000000\n",
       "Name: R2, dtype: float64"
      ]
     },
     "execution_count": 13,
     "metadata": {},
     "output_type": "execute_result"
    }
   ],
   "source": [
    "frame1.loc[\"R2\"].fillna(value=999)"
   ]
  },
  {
   "cell_type": "code",
   "execution_count": 14,
   "metadata": {},
   "outputs": [
    {
     "data": {
      "text/plain": [
       "R1    999.000000\n",
       "R2    999.000000\n",
       "R3      0.953393\n",
       "R4      0.721755\n",
       "R5    999.000000\n",
       "Name: C2, dtype: float64"
      ]
     },
     "execution_count": 14,
     "metadata": {},
     "output_type": "execute_result"
    }
   ],
   "source": [
    "frame1[\"C2\"].fillna(value=999)"
   ]
  },
  {
   "cell_type": "code",
   "execution_count": 15,
   "metadata": {},
   "outputs": [
    {
     "data": {
      "text/plain": [
       "R1    1.0\n",
       "R2    1.0\n",
       "R3    2.0\n",
       "R4    1.5\n",
       "R5    2.0\n",
       "Name: C3, dtype: float64"
      ]
     },
     "execution_count": 15,
     "metadata": {},
     "output_type": "execute_result"
    }
   ],
   "source": [
    "# filling missing data of C3 with mean of all elements of C3\n",
    "frame1[\"C3\"]=[1,1,2,np.NaN,2]   # replaced values of C3 just for sake of simplicity so that mean value can be observed\n",
    "frame1[\"C3\"].fillna(value=frame1[\"C3\"].mean())"
   ]
  },
  {
   "cell_type": "code",
   "execution_count": null,
   "metadata": {},
   "outputs": [],
   "source": []
  }
 ],
 "metadata": {
  "kernelspec": {
   "display_name": "Python 3",
   "language": "python",
   "name": "python3"
  },
  "language_info": {
   "codemirror_mode": {
    "name": "ipython",
    "version": 3
   },
   "file_extension": ".py",
   "mimetype": "text/x-python",
   "name": "python",
   "nbconvert_exporter": "python",
   "pygments_lexer": "ipython3",
   "version": "3.7.6"
  }
 },
 "nbformat": 4,
 "nbformat_minor": 4
}
