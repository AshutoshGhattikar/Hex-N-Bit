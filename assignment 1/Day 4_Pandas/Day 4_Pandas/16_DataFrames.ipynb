{
 "cells": [
  {
   "cell_type": "markdown",
   "metadata": {},
   "source": [
    "<a href='https://www.hexnbit.com/'> <img src='hexnbit.png'/> </a>"
   ]
  },
  {
   "cell_type": "markdown",
   "metadata": {},
   "source": [
    "# DataFrames\n",
    "\n",
    "We can say that dataframes are basically collection of Pandas Series which share the same indexes"
   ]
  },
  {
   "cell_type": "code",
   "execution_count": 1,
   "metadata": {},
   "outputs": [],
   "source": [
    "import numpy as np\n",
    "import pandas as pd"
   ]
  },
  {
   "cell_type": "code",
   "execution_count": 2,
   "metadata": {},
   "outputs": [
    {
     "name": "stdout",
     "output_type": "stream",
     "text": [
      "[[ 0  1  2  3  4]\n",
      " [ 5  6  7  8  9]\n",
      " [10 11 12 13 14]\n",
      " [15 16 17 18 19]\n",
      " [20 21 22 23 24]]\n"
     ]
    }
   ],
   "source": [
    "num_data=np.arange(25).reshape(5,5)  # defining an array of shape 5 x 4 (4 rows, 5 columns)\n",
    "print(num_data)"
   ]
  },
  {
   "cell_type": "markdown",
   "metadata": {},
   "source": [
    "## Creating Data Frames"
   ]
  },
  {
   "cell_type": "code",
   "execution_count": 3,
   "metadata": {},
   "outputs": [
    {
     "name": "stdout",
     "output_type": "stream",
     "text": [
      "    C1  C2  C3  C4  C5\n",
      "R1   0   1   2   3   4\n",
      "R2   5   6   7   8   9\n",
      "R3  10  11  12  13  14\n",
      "R4  15  16  17  18  19\n",
      "R5  20  21  22  23  24\n"
     ]
    }
   ],
   "source": [
    "frame=pd.DataFrame(data=num_data,index=[\"R1\",\"R2\",\"R3\",\"R4\",\"R5\"],columns=[\"C1\",\"C2\",\"C3\",\"C4\",\"C5\"])   \n",
    "# converting the above defined NumPy array to pandas data frame by providing index and columns\n",
    "print(frame)                                                               "
   ]
  },
  {
   "cell_type": "code",
   "execution_count": 4,
   "metadata": {},
   "outputs": [
    {
     "name": "stdout",
     "output_type": "stream",
     "text": [
      "    C1  C2  C3  C4  C5\n",
      "R1   0   1   2   3   4\n",
      "R2   5   6   7   8   9\n",
      "R3  10  11  12  13  14\n",
      "R4  15  16  17  18  19\n",
      "R5  20  21  22  23  24\n",
      "<class 'pandas.core.frame.DataFrame'>\n"
     ]
    }
   ],
   "source": [
    "# same can be done without mentioning the data, index and columns keyword #but needs to be in the correct order\n",
    "frame=pd.DataFrame(num_data,[\"R1\",\"R2\",\"R3\",\"R4\",\"R5\"],[\"C1\",\"C2\",\"C3\",\"C4\",\"C5\"])\n",
    "print(frame)  \n",
    "print(type(frame))"
   ]
  },
  {
   "cell_type": "markdown",
   "metadata": {},
   "source": [
    "## Indexing Data Frames"
   ]
  },
  {
   "cell_type": "markdown",
   "metadata": {},
   "source": [
    "### Column Indexing"
   ]
  },
  {
   "cell_type": "code",
   "execution_count": 5,
   "metadata": {},
   "outputs": [
    {
     "name": "stdout",
     "output_type": "stream",
     "text": [
      "R1     2\n",
      "R2     7\n",
      "R3    12\n",
      "R4    17\n",
      "R5    22\n",
      "Name: C3, dtype: int32\n"
     ]
    }
   ],
   "source": [
    "print(frame[\"C3\"])   # fetching complete column data from a Data Frame"
   ]
  },
  {
   "cell_type": "code",
   "execution_count": 6,
   "metadata": {},
   "outputs": [
    {
     "name": "stdout",
     "output_type": "stream",
     "text": [
      "<class 'pandas.core.series.Series'>\n"
     ]
    }
   ],
   "source": [
    "print(type(frame[\"C3\"]))  # dataframe is a collection of series"
   ]
  },
  {
   "cell_type": "code",
   "execution_count": 7,
   "metadata": {},
   "outputs": [
    {
     "name": "stdout",
     "output_type": "stream",
     "text": [
      "    C1  C3\n",
      "R1   0   2\n",
      "R2   5   7\n",
      "R3  10  12\n",
      "R4  15  17\n",
      "R5  20  22\n"
     ]
    }
   ],
   "source": [
    "print(frame[[\"C1\",\"C3\"]])   # fetching multiple column data from a Data Frame"
   ]
  },
  {
   "cell_type": "code",
   "execution_count": 8,
   "metadata": {},
   "outputs": [
    {
     "name": "stdout",
     "output_type": "stream",
     "text": [
      "    C1  C2\n",
      "R1   0   1\n",
      "R2   5   6\n",
      "R3  10  11\n",
      "R4  15  16\n",
      "R5  20  21\n"
     ]
    }
   ],
   "source": [
    "print(frame.iloc[:,[0,1]])"
   ]
  },
  {
   "cell_type": "markdown",
   "metadata": {},
   "source": [
    "### Row Indexing"
   ]
  },
  {
   "cell_type": "code",
   "execution_count": 9,
   "metadata": {},
   "outputs": [
    {
     "name": "stdout",
     "output_type": "stream",
     "text": [
      "C1    0\n",
      "C2    1\n",
      "C3    2\n",
      "C4    3\n",
      "C5    4\n",
      "Name: R1, dtype: int32\n"
     ]
    }
   ],
   "source": [
    "print(frame.loc[\"R1\"])"
   ]
  },
  {
   "cell_type": "code",
   "execution_count": 10,
   "metadata": {},
   "outputs": [
    {
     "name": "stdout",
     "output_type": "stream",
     "text": [
      "    C1  C2  C3  C4  C5\n",
      "R1   0   1   2   3   4\n",
      "R3  10  11  12  13  14\n"
     ]
    }
   ],
   "source": [
    "print(frame.loc[[\"R1\",\"R3\"]])   # Multiple Rows"
   ]
  },
  {
   "cell_type": "code",
   "execution_count": 11,
   "metadata": {},
   "outputs": [
    {
     "name": "stdout",
     "output_type": "stream",
     "text": [
      "C1    0\n",
      "C2    1\n",
      "C3    2\n",
      "C4    3\n",
      "C5    4\n",
      "Name: R1, dtype: int32\n"
     ]
    }
   ],
   "source": [
    "print(frame.iloc[0])    # can also be done using index number"
   ]
  },
  {
   "cell_type": "markdown",
   "metadata": {},
   "source": [
    "### Row and Column Indexing"
   ]
  },
  {
   "cell_type": "code",
   "execution_count": 12,
   "metadata": {},
   "outputs": [
    {
     "name": "stdout",
     "output_type": "stream",
     "text": [
      "7\n"
     ]
    }
   ],
   "source": [
    "print(frame.loc[\"R2\",\"C3\"])   # Single Row and Single Column Indexing"
   ]
  },
  {
   "cell_type": "code",
   "execution_count": 13,
   "metadata": {},
   "outputs": [
    {
     "name": "stdout",
     "output_type": "stream",
     "text": [
      "    C3  C5\n",
      "R2   7   9\n",
      "R4  17  19\n"
     ]
    }
   ],
   "source": [
    "print(frame.loc[[\"R2\",\"R4\"],[\"C3\",\"C5\"]])   # Multi Row and Multi Column Indexing"
   ]
  },
  {
   "cell_type": "markdown",
   "metadata": {},
   "source": [
    "### Creating New Columns"
   ]
  },
  {
   "cell_type": "code",
   "execution_count": 14,
   "metadata": {},
   "outputs": [
    {
     "name": "stdout",
     "output_type": "stream",
     "text": [
      "    C1  C2  C3  C4  C5   C6\n",
      "R1   0   1   2   3   4  100\n",
      "R2   5   6   7   8   9  200\n",
      "R3  10  11  12  13  14  300\n",
      "R4  15  16  17  18  19  400\n",
      "R5  20  21  22  23  24  500\n"
     ]
    }
   ],
   "source": [
    "frame[\"C6\"]=[100,200,300,400,500]\n",
    "print(frame)"
   ]
  },
  {
   "cell_type": "markdown",
   "metadata": {},
   "source": [
    "### Deleting Columns"
   ]
  },
  {
   "cell_type": "code",
   "execution_count": 15,
   "metadata": {},
   "outputs": [
    {
     "data": {
      "text/html": [
       "<div>\n",
       "<style scoped>\n",
       "    .dataframe tbody tr th:only-of-type {\n",
       "        vertical-align: middle;\n",
       "    }\n",
       "\n",
       "    .dataframe tbody tr th {\n",
       "        vertical-align: top;\n",
       "    }\n",
       "\n",
       "    .dataframe thead th {\n",
       "        text-align: right;\n",
       "    }\n",
       "</style>\n",
       "<table border=\"1\" class=\"dataframe\">\n",
       "  <thead>\n",
       "    <tr style=\"text-align: right;\">\n",
       "      <th></th>\n",
       "      <th>C1</th>\n",
       "      <th>C2</th>\n",
       "      <th>C3</th>\n",
       "      <th>C4</th>\n",
       "      <th>C5</th>\n",
       "    </tr>\n",
       "  </thead>\n",
       "  <tbody>\n",
       "    <tr>\n",
       "      <th>R1</th>\n",
       "      <td>0</td>\n",
       "      <td>1</td>\n",
       "      <td>2</td>\n",
       "      <td>3</td>\n",
       "      <td>4</td>\n",
       "    </tr>\n",
       "    <tr>\n",
       "      <th>R2</th>\n",
       "      <td>5</td>\n",
       "      <td>6</td>\n",
       "      <td>7</td>\n",
       "      <td>8</td>\n",
       "      <td>9</td>\n",
       "    </tr>\n",
       "    <tr>\n",
       "      <th>R3</th>\n",
       "      <td>10</td>\n",
       "      <td>11</td>\n",
       "      <td>12</td>\n",
       "      <td>13</td>\n",
       "      <td>14</td>\n",
       "    </tr>\n",
       "    <tr>\n",
       "      <th>R4</th>\n",
       "      <td>15</td>\n",
       "      <td>16</td>\n",
       "      <td>17</td>\n",
       "      <td>18</td>\n",
       "      <td>19</td>\n",
       "    </tr>\n",
       "    <tr>\n",
       "      <th>R5</th>\n",
       "      <td>20</td>\n",
       "      <td>21</td>\n",
       "      <td>22</td>\n",
       "      <td>23</td>\n",
       "      <td>24</td>\n",
       "    </tr>\n",
       "  </tbody>\n",
       "</table>\n",
       "</div>"
      ],
      "text/plain": [
       "    C1  C2  C3  C4  C5\n",
       "R1   0   1   2   3   4\n",
       "R2   5   6   7   8   9\n",
       "R3  10  11  12  13  14\n",
       "R4  15  16  17  18  19\n",
       "R5  20  21  22  23  24"
      ]
     },
     "execution_count": 15,
     "metadata": {},
     "output_type": "execute_result"
    }
   ],
   "source": [
    "# Temporary Drop\n",
    "frame.drop([\"C6\"],axis=1)   # Axis =1 means Columns"
   ]
  },
  {
   "cell_type": "code",
   "execution_count": 16,
   "metadata": {},
   "outputs": [
    {
     "name": "stdout",
     "output_type": "stream",
     "text": [
      "    C1  C2  C3  C4  C5   C6\n",
      "R1   0   1   2   3   4  100\n",
      "R2   5   6   7   8   9  200\n",
      "R3  10  11  12  13  14  300\n",
      "R4  15  16  17  18  19  400\n",
      "R5  20  21  22  23  24  500\n"
     ]
    }
   ],
   "source": [
    "print(frame)   # Drop not reflected in the frame"
   ]
  },
  {
   "cell_type": "code",
   "execution_count": 17,
   "metadata": {},
   "outputs": [],
   "source": [
    "# Permanent Drop using inplace parameter as True\n",
    "frame.drop([\"C6\"],axis=1,inplace=True)"
   ]
  },
  {
   "cell_type": "code",
   "execution_count": 18,
   "metadata": {},
   "outputs": [
    {
     "name": "stdout",
     "output_type": "stream",
     "text": [
      "    C1  C2  C3  C4  C5\n",
      "R1   0   1   2   3   4\n",
      "R2   5   6   7   8   9\n",
      "R3  10  11  12  13  14\n",
      "R4  15  16  17  18  19\n",
      "R5  20  21  22  23  24\n"
     ]
    }
   ],
   "source": [
    "print(frame)   # Drop reflected in frame, hence permanent"
   ]
  },
  {
   "cell_type": "markdown",
   "metadata": {},
   "source": [
    "### Creating New Rows"
   ]
  },
  {
   "cell_type": "code",
   "execution_count": 19,
   "metadata": {},
   "outputs": [
    {
     "name": "stdout",
     "output_type": "stream",
     "text": [
      "    C1  C2  C3  C4  C5\n",
      "R1   0   1   2   3   4\n",
      "R2   5   6   7   8   9\n",
      "R3  10  11  12  13  14\n",
      "R4  15  16  17  18  19\n",
      "R5  20  21  22  23  24\n",
      "R6  99  99  99  99  99\n"
     ]
    }
   ],
   "source": [
    "frame.loc[\"R6\"]=[99,99,99,99,99]\n",
    "print(frame)"
   ]
  },
  {
   "cell_type": "markdown",
   "metadata": {},
   "source": [
    "### Deleting Rows"
   ]
  },
  {
   "cell_type": "code",
   "execution_count": 20,
   "metadata": {},
   "outputs": [
    {
     "data": {
      "text/html": [
       "<div>\n",
       "<style scoped>\n",
       "    .dataframe tbody tr th:only-of-type {\n",
       "        vertical-align: middle;\n",
       "    }\n",
       "\n",
       "    .dataframe tbody tr th {\n",
       "        vertical-align: top;\n",
       "    }\n",
       "\n",
       "    .dataframe thead th {\n",
       "        text-align: right;\n",
       "    }\n",
       "</style>\n",
       "<table border=\"1\" class=\"dataframe\">\n",
       "  <thead>\n",
       "    <tr style=\"text-align: right;\">\n",
       "      <th></th>\n",
       "      <th>C1</th>\n",
       "      <th>C2</th>\n",
       "      <th>C3</th>\n",
       "      <th>C4</th>\n",
       "      <th>C5</th>\n",
       "    </tr>\n",
       "  </thead>\n",
       "  <tbody>\n",
       "    <tr>\n",
       "      <th>R1</th>\n",
       "      <td>0</td>\n",
       "      <td>1</td>\n",
       "      <td>2</td>\n",
       "      <td>3</td>\n",
       "      <td>4</td>\n",
       "    </tr>\n",
       "    <tr>\n",
       "      <th>R2</th>\n",
       "      <td>5</td>\n",
       "      <td>6</td>\n",
       "      <td>7</td>\n",
       "      <td>8</td>\n",
       "      <td>9</td>\n",
       "    </tr>\n",
       "    <tr>\n",
       "      <th>R3</th>\n",
       "      <td>10</td>\n",
       "      <td>11</td>\n",
       "      <td>12</td>\n",
       "      <td>13</td>\n",
       "      <td>14</td>\n",
       "    </tr>\n",
       "    <tr>\n",
       "      <th>R4</th>\n",
       "      <td>15</td>\n",
       "      <td>16</td>\n",
       "      <td>17</td>\n",
       "      <td>18</td>\n",
       "      <td>19</td>\n",
       "    </tr>\n",
       "    <tr>\n",
       "      <th>R5</th>\n",
       "      <td>20</td>\n",
       "      <td>21</td>\n",
       "      <td>22</td>\n",
       "      <td>23</td>\n",
       "      <td>24</td>\n",
       "    </tr>\n",
       "  </tbody>\n",
       "</table>\n",
       "</div>"
      ],
      "text/plain": [
       "    C1  C2  C3  C4  C5\n",
       "R1   0   1   2   3   4\n",
       "R2   5   6   7   8   9\n",
       "R3  10  11  12  13  14\n",
       "R4  15  16  17  18  19\n",
       "R5  20  21  22  23  24"
      ]
     },
     "execution_count": 20,
     "metadata": {},
     "output_type": "execute_result"
    }
   ],
   "source": [
    "# Temporary Deletion\n",
    "frame.drop([\"R6\"])    # or frame.drop([\"R6\"],axis=0), but axis is by default equal to zero"
   ]
  },
  {
   "cell_type": "code",
   "execution_count": 21,
   "metadata": {
    "scrolled": true
   },
   "outputs": [
    {
     "name": "stdout",
     "output_type": "stream",
     "text": [
      "    C1  C2  C3  C4  C5\n",
      "R1   0   1   2   3   4\n",
      "R2   5   6   7   8   9\n",
      "R3  10  11  12  13  14\n",
      "R4  15  16  17  18  19\n",
      "R5  20  21  22  23  24\n",
      "R6  99  99  99  99  99\n"
     ]
    }
   ],
   "source": [
    "print(frame)  # Not reflected in frame"
   ]
  },
  {
   "cell_type": "code",
   "execution_count": 22,
   "metadata": {},
   "outputs": [],
   "source": [
    "# Permanent Deletion\n",
    "frame.drop([\"R6\"],inplace=True)"
   ]
  },
  {
   "cell_type": "code",
   "execution_count": 23,
   "metadata": {},
   "outputs": [
    {
     "name": "stdout",
     "output_type": "stream",
     "text": [
      "    C1  C2  C3  C4  C5\n",
      "R1   0   1   2   3   4\n",
      "R2   5   6   7   8   9\n",
      "R3  10  11  12  13  14\n",
      "R4  15  16  17  18  19\n",
      "R5  20  21  22  23  24\n"
     ]
    }
   ],
   "source": [
    "print(frame)   # deletion reflected"
   ]
  },
  {
   "cell_type": "markdown",
   "metadata": {},
   "source": [
    "### Conditional Indexing"
   ]
  },
  {
   "cell_type": "code",
   "execution_count": 24,
   "metadata": {},
   "outputs": [
    {
     "name": "stdout",
     "output_type": "stream",
     "text": [
      "[       C1     C2     C3     C4     C5\n",
      "R1  False  False  False  False  False\n",
      "R2  False  False  False  False  False\n",
      "R3  False   True   True   True   True\n",
      "R4   True   True   True   True   True\n",
      "R5   True   True   True   True   True]\n"
     ]
    }
   ],
   "source": [
    "print([frame>10])       # print all booleans for frame elements with condition where element is greater than 10"
   ]
  },
  {
   "cell_type": "code",
   "execution_count": 25,
   "metadata": {},
   "outputs": [
    {
     "name": "stdout",
     "output_type": "stream",
     "text": [
      "      C1    C2    C3    C4    C5\n",
      "R1   NaN   NaN   NaN   NaN   NaN\n",
      "R2   NaN   NaN   NaN   NaN   NaN\n",
      "R3   NaN  11.0  12.0  13.0  14.0\n",
      "R4  15.0  16.0  17.0  18.0  19.0\n",
      "R5  20.0  21.0  22.0  23.0  24.0\n"
     ]
    }
   ],
   "source": [
    "print(frame[frame>10])  # print all elements of frame which are greater than 10"
   ]
  },
  {
   "cell_type": "code",
   "execution_count": 26,
   "metadata": {},
   "outputs": [
    {
     "name": "stdout",
     "output_type": "stream",
     "text": [
      "[R1    False\n",
      "R2    False\n",
      "R3     True\n",
      "R4     True\n",
      "R5     True\n",
      "Name: C2, dtype: bool]\n"
     ]
    }
   ],
   "source": [
    "print([frame[\"C2\"]>6])  # print booleans for elements of Column C2 with condition that elements are greater than 6"
   ]
  },
  {
   "cell_type": "code",
   "execution_count": 27,
   "metadata": {},
   "outputs": [
    {
     "name": "stdout",
     "output_type": "stream",
     "text": [
      "    C1  C2  C3  C4  C5\n",
      "R3  10  11  12  13  14\n",
      "R4  15  16  17  18  19\n",
      "R5  20  21  22  23  24\n"
     ]
    }
   ],
   "source": [
    "print(frame[frame[\"C2\"]>6])  # print all rows for which \"C2\">6 is true"
   ]
  },
  {
   "cell_type": "code",
   "execution_count": 28,
   "metadata": {},
   "outputs": [
    {
     "name": "stdout",
     "output_type": "stream",
     "text": [
      "R3    11\n",
      "R4    16\n",
      "R5    21\n",
      "Name: C2, dtype: int64\n"
     ]
    }
   ],
   "source": [
    "print(frame[frame[\"C2\"]>6][\"C2\"])  # print all rows of C2 for which \"C2\">6 is true"
   ]
  },
  {
   "cell_type": "code",
   "execution_count": 29,
   "metadata": {},
   "outputs": [
    {
     "name": "stdout",
     "output_type": "stream",
     "text": [
      "    C1  C2  C3  C4  C5\n",
      "R4  15  16  17  18  19\n",
      "R5  20  21  22  23  24\n"
     ]
    }
   ],
   "source": [
    "print(frame[(frame[\"C2\"]>6) & (frame[\"C3\"]>12)])  # print rows for which C2>6 and C3 greater than 12\n",
    "# similarly | \"bitwise OR operator\" or \"Pipe Operator\" can be used "
   ]
  },
  {
   "cell_type": "markdown",
   "metadata": {},
   "source": [
    "## Index Manipulation"
   ]
  },
  {
   "cell_type": "code",
   "execution_count": 30,
   "metadata": {},
   "outputs": [
    {
     "name": "stdout",
     "output_type": "stream",
     "text": [
      "    C1  C2  C3  C4  C5\n",
      "R1   0   1   2   3   4\n",
      "R2   5   6   7   8   9\n",
      "R3  10  11  12  13  14\n",
      "R4  15  16  17  18  19\n",
      "R5  20  21  22  23  24\n",
      "  index  C1  C2  C3  C4  C5\n",
      "0    R1   0   1   2   3   4\n",
      "1    R2   5   6   7   8   9\n",
      "2    R3  10  11  12  13  14\n",
      "3    R4  15  16  17  18  19\n",
      "4    R5  20  21  22  23  24\n"
     ]
    }
   ],
   "source": [
    "print(frame)\n",
    "print(frame.reset_index())  # temporary reset, use inplace for permanent reset and axis number to select axis of reset\n",
    "#print(frame.reset_index(inplace=True))"
   ]
  },
  {
   "cell_type": "code",
   "execution_count": 31,
   "metadata": {},
   "outputs": [
    {
     "name": "stdout",
     "output_type": "stream",
     "text": [
      "    C1  C2  C3  C4  C5  new\n",
      "R1   0   1   2   3   4  R11\n",
      "R2   5   6   7   8   9  R22\n",
      "R3  10  11  12  13  14  R33\n",
      "R4  15  16  17  18  19  R44\n",
      "R5  20  21  22  23  24  R55\n"
     ]
    }
   ],
   "source": [
    "frame[\"new\"]=[\"R11\",\"R22\",\"R33\",\"R44\",\"R55\"]    # adding new column to frame which will be later used as new Index\n",
    "print(frame)"
   ]
  },
  {
   "cell_type": "code",
   "execution_count": 32,
   "metadata": {},
   "outputs": [
    {
     "data": {
      "text/html": [
       "<div>\n",
       "<style scoped>\n",
       "    .dataframe tbody tr th:only-of-type {\n",
       "        vertical-align: middle;\n",
       "    }\n",
       "\n",
       "    .dataframe tbody tr th {\n",
       "        vertical-align: top;\n",
       "    }\n",
       "\n",
       "    .dataframe thead th {\n",
       "        text-align: right;\n",
       "    }\n",
       "</style>\n",
       "<table border=\"1\" class=\"dataframe\">\n",
       "  <thead>\n",
       "    <tr style=\"text-align: right;\">\n",
       "      <th></th>\n",
       "      <th>C1</th>\n",
       "      <th>C2</th>\n",
       "      <th>C3</th>\n",
       "      <th>C4</th>\n",
       "      <th>C5</th>\n",
       "    </tr>\n",
       "    <tr>\n",
       "      <th>new</th>\n",
       "      <th></th>\n",
       "      <th></th>\n",
       "      <th></th>\n",
       "      <th></th>\n",
       "      <th></th>\n",
       "    </tr>\n",
       "  </thead>\n",
       "  <tbody>\n",
       "    <tr>\n",
       "      <th>R11</th>\n",
       "      <td>0</td>\n",
       "      <td>1</td>\n",
       "      <td>2</td>\n",
       "      <td>3</td>\n",
       "      <td>4</td>\n",
       "    </tr>\n",
       "    <tr>\n",
       "      <th>R22</th>\n",
       "      <td>5</td>\n",
       "      <td>6</td>\n",
       "      <td>7</td>\n",
       "      <td>8</td>\n",
       "      <td>9</td>\n",
       "    </tr>\n",
       "    <tr>\n",
       "      <th>R33</th>\n",
       "      <td>10</td>\n",
       "      <td>11</td>\n",
       "      <td>12</td>\n",
       "      <td>13</td>\n",
       "      <td>14</td>\n",
       "    </tr>\n",
       "    <tr>\n",
       "      <th>R44</th>\n",
       "      <td>15</td>\n",
       "      <td>16</td>\n",
       "      <td>17</td>\n",
       "      <td>18</td>\n",
       "      <td>19</td>\n",
       "    </tr>\n",
       "    <tr>\n",
       "      <th>R55</th>\n",
       "      <td>20</td>\n",
       "      <td>21</td>\n",
       "      <td>22</td>\n",
       "      <td>23</td>\n",
       "      <td>24</td>\n",
       "    </tr>\n",
       "  </tbody>\n",
       "</table>\n",
       "</div>"
      ],
      "text/plain": [
       "     C1  C2  C3  C4  C5\n",
       "new                    \n",
       "R11   0   1   2   3   4\n",
       "R22   5   6   7   8   9\n",
       "R33  10  11  12  13  14\n",
       "R44  15  16  17  18  19\n",
       "R55  20  21  22  23  24"
      ]
     },
     "execution_count": 32,
     "metadata": {},
     "output_type": "execute_result"
    }
   ],
   "source": [
    "frame.set_index(\"new\")    # Temporary Index Change"
   ]
  },
  {
   "cell_type": "code",
   "execution_count": 33,
   "metadata": {},
   "outputs": [
    {
     "name": "stdout",
     "output_type": "stream",
     "text": [
      "    C1  C2  C3  C4  C5  new\n",
      "R1   0   1   2   3   4  R11\n",
      "R2   5   6   7   8   9  R22\n",
      "R3  10  11  12  13  14  R33\n",
      "R4  15  16  17  18  19  R44\n",
      "R5  20  21  22  23  24  R55\n"
     ]
    }
   ],
   "source": [
    "print(frame)   # Change not reflected yet"
   ]
  },
  {
   "cell_type": "code",
   "execution_count": 34,
   "metadata": {},
   "outputs": [],
   "source": [
    "frame.set_index(\"new\",inplace=True)   # Permanent index change"
   ]
  },
  {
   "cell_type": "code",
   "execution_count": 35,
   "metadata": {},
   "outputs": [
    {
     "name": "stdout",
     "output_type": "stream",
     "text": [
      "     C1  C2  C3  C4  C5\n",
      "new                    \n",
      "R11   0   1   2   3   4\n",
      "R22   5   6   7   8   9\n",
      "R33  10  11  12  13  14\n",
      "R44  15  16  17  18  19\n",
      "R55  20  21  22  23  24\n"
     ]
    }
   ],
   "source": [
    "print(frame)   # Change reflected"
   ]
  },
  {
   "cell_type": "code",
   "execution_count": 36,
   "metadata": {},
   "outputs": [
    {
     "name": "stdout",
     "output_type": "stream",
     "text": [
      "[Index(['R11', 'R22', 'R33', 'R44', 'R55'], dtype='object', name='new'), Index(['C1', 'C2', 'C3', 'C4', 'C5'], dtype='object')]\n"
     ]
    }
   ],
   "source": [
    "print(frame.axes)   # print axes"
   ]
  },
  {
   "cell_type": "code",
   "execution_count": 37,
   "metadata": {},
   "outputs": [],
   "source": [
    "frame.rename_axis(\"Columns\",axis=1,inplace=True)  # permanently change names of axes\n",
    "frame.rename_axis(\"Rows\",axis=0, inplace=True)"
   ]
  },
  {
   "cell_type": "code",
   "execution_count": 38,
   "metadata": {},
   "outputs": [
    {
     "name": "stdout",
     "output_type": "stream",
     "text": [
      "Columns  C1  C2  C3  C4  C5\n",
      "Rows                       \n",
      "R11       0   1   2   3   4\n",
      "R22       5   6   7   8   9\n",
      "R33      10  11  12  13  14\n",
      "R44      15  16  17  18  19\n",
      "R55      20  21  22  23  24\n"
     ]
    }
   ],
   "source": [
    "print(frame)"
   ]
  },
  {
   "cell_type": "code",
   "execution_count": 39,
   "metadata": {},
   "outputs": [],
   "source": [
    "frame.columns=[\"a\",\"b\",\"c\",\"d\",\"e\"]"
   ]
  },
  {
   "cell_type": "code",
   "execution_count": 40,
   "metadata": {},
   "outputs": [
    {
     "name": "stdout",
     "output_type": "stream",
     "text": [
      "       a   b   c   d   e\n",
      "Rows                    \n",
      "R11    0   1   2   3   4\n",
      "R22    5   6   7   8   9\n",
      "R33   10  11  12  13  14\n",
      "R44   15  16  17  18  19\n",
      "R55   20  21  22  23  24\n"
     ]
    }
   ],
   "source": [
    "print(frame)"
   ]
  },
  {
   "cell_type": "code",
   "execution_count": null,
   "metadata": {},
   "outputs": [],
   "source": []
  }
 ],
 "metadata": {
  "kernelspec": {
   "display_name": "Python 3",
   "language": "python",
   "name": "python3"
  },
  "language_info": {
   "codemirror_mode": {
    "name": "ipython",
    "version": 3
   },
   "file_extension": ".py",
   "mimetype": "text/x-python",
   "name": "python",
   "nbconvert_exporter": "python",
   "pygments_lexer": "ipython3",
   "version": "3.7.6"
  }
 },
 "nbformat": 4,
 "nbformat_minor": 4
}
